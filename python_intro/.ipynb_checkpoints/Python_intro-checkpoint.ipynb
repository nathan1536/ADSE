{
 "cells": [
  {
   "cell_type": "markdown",
   "metadata": {},
   "source": [
    "# Introduction to Python - Autonomous Driving Software Engineering\n",
    "\n",
    "For illustrative purposes, this tutorial is made in an IPython-Notbebook (`.ipynb`-file). All coding-related aspects in this notebook are relevant for standard programming in `Python`.\n",
    "\n",
    "Run cells with `Shift + Enter`"
   ]
  },
  {
   "cell_type": "markdown",
   "metadata": {},
   "source": [
    "## 1. Why Python? \n",
    "\n",
    "First of all, before learning a new programming language, it is important to be aware of its characteristics:\n",
    "\n",
    "`Python` is entirely **free** to use and distribute due to its open-source license. There are numerous **tools, libraries, and packages** for `Python` that cover many scientific subjects, such as data-science, image-processing, and motion-planning in autonomous driving, to name a few. Furthermore, `Python` is **easy to learn, read and write** due to its syntax close to the English language. Compared to other programming languages, such as C/C++, `Python` is **interpreted** instead of compiled. This means that Python code is **executed line by line**.  For this and a few other reasons that increase the convenience while programming, `Python` is significantly **slower** during runtime, compared to e.g. C++. However, all these aspects substantially increase the **productivity** in development and allow you to focus on the **scientific part of a problem**, instead of the programming part. Lastly, like C/C++, many languages require you to change your code depending on your platform (Windows/macOS/Linux). For `Python`, however, you generally only write your code once (except for system-dependent features) and run it on **any platform**.\n",
    "\n",
    "`Python` will mostly not operate safety- and time-critical modules of a system. However, it will be the right choice for **prototyping** and creating a **proof of concept** for you as an engineer."
   ]
  },
  {
   "cell_type": "markdown",
   "metadata": {},
   "source": [
    "## 2. Structure of Python\n",
    "\n",
    "### 2.1 Python Scripts, Modules and Packages\n",
    "\n",
    "`Python` code is usually in the form of **scripts** or **modules**, both with the same file-ending `.py`. There is **no internal distinction** between `Python` scripts and modules - both are executable and importable, although modules, mostly contained in library code, often won't do anything when executed directly. The difference lies in their structure.\n",
    "\n",
    "Let's look at the following two file examples without emphasising too much on the exact functionality and coding details:\n",
    "\n",
    "<div class=\"row\">\n",
    "  <div class=\"col-md-5\" markdown=\"1\">\n",
    "  \n",
    "  ```python\n",
    "      \n",
    "  # functionality_module.py\n",
    "      \n",
    "  def certain_functionality(data_struct):\n",
    "      \n",
    "    # do something with input \n",
    "      \n",
    "    return other_data_struct\n",
    "\n",
    "  ```\n",
    "      \n",
    "  </div>\n",
    "    \n",
    "  <div class=\"col-md-7\" markdown=\"1\">\n",
    "      \n",
    "  ```python\n",
    "      \n",
    "  # script.py\n",
    "      \n",
    "  from functionality_module import certain_functionality\n",
    "  from vizualization_module import vizualize_data\n",
    "        \n",
    "  # Prototyping, vizualizing, testing, ...\n",
    "      \n",
    "  result_1 = certain_functionality(some_data)\n",
    "  result_2 = certain_functionality(other_data)\n",
    "\n",
    "  vizualize_data(result_1)\n",
    "  vizualize_data(result_2)\n",
    "      \n",
    "  # Export results \n",
    "\n",
    "  ```\n",
    "      \n",
    "  </div>\n",
    "</div>\n",
    "\n",
    "The upper example is aiming to illustrate, that functions and variables can be **encapsuled** in modules. Like this, we can **modularly** use any function and prevent duplicate code in our **script** that runs from top to bottom. Modules are parts of **libraries**. Libraries on the other hand are included in **packages** that can be downloaded using tools such as `pip` or `Anaconda`.\n",
    "\n"
   ]
  },
  {
   "cell_type": "markdown",
   "metadata": {},
   "source": [
    "### 2.2. IPython-Notebooks\n",
    "\n",
    "IPython-Notebooks represent an extension to regular `Python` files. IPython-Notebooks, such as this one, are made up of several cells and can be used similar to standard `Python` scripts with optional documentation. Each cell can contain either `Python` code or Markdown text. Yet, don't worry about coding details. Everything will be explained in chapter 3 - Python 3 Basics.\n",
    "\n",
    "You can execute cells by clicking on it and pressing `Shift` + `Enter`. Check out the following examples:"
   ]
  },
  {
   "cell_type": "code",
   "execution_count": 1,
   "metadata": {},
   "outputs": [
    {
     "name": "stdout",
     "output_type": "stream",
     "text": [
      "7\n"
     ]
    }
   ],
   "source": [
    "L = [5, 4, 3, 2, 1, 0]\n",
    "\n",
    "print(L[3] + 5)"
   ]
  },
  {
   "cell_type": "markdown",
   "metadata": {},
   "source": [
    "As global variables are shared between cells, we can acces `L` in the next cell"
   ]
  },
  {
   "cell_type": "code",
   "execution_count": 2,
   "metadata": {},
   "outputs": [
    {
     "name": "stdout",
     "output_type": "stream",
     "text": [
      "2\n"
     ]
    }
   ],
   "source": [
    "print(L[3])"
   ]
  },
  {
   "cell_type": "code",
   "execution_count": 3,
   "metadata": {},
   "outputs": [],
   "source": [
    "# After executing this cell, try and re-execute the upper cell\n",
    "L = ['Pedestrian', 'Byciclist', 'Car', 'Truck'] "
   ]
  },
  {
   "cell_type": "markdown",
   "metadata": {},
   "source": [
    "Make sure to **save your changes** with `Strg` + `S` after editing cells!"
   ]
  },
  {
   "cell_type": "markdown",
   "metadata": {},
   "source": [
    "## 3. Python 3 Basics \n",
    "\n",
    "### 3.1. Hello World!\n",
    "\n",
    "In almost every programming tutorial, the very first step is to write a \"Hello-World\" program. In `Python`, this is easily done in only one line! We simply use the `print`-statement as follows:"
   ]
  },
  {
   "cell_type": "code",
   "execution_count": null,
   "metadata": {},
   "outputs": [],
   "source": [
    "print(\"Hello World\")"
   ]
  },
  {
   "cell_type": "markdown",
   "metadata": {},
   "source": [
    "For those of you who are familiar, you can compare this with the tedious implementation of \"Hello World\" in `C++`:\n",
    "\n",
    "```c++\n",
    "\n",
    "# include <iostream>\n",
    "\n",
    "int main() \n",
    "{\n",
    "    std::cout << \"Hello World!\";\n",
    "    return 0;\n",
    "}\n",
    "\n",
    "```\n",
    "\n",
    "` Output: Hello World! ` "
   ]
  },
  {
   "cell_type": "markdown",
   "metadata": {},
   "source": [
    "### 3.2. Variables and Types\n",
    "\n",
    "Python is completely object oriented and dynamic. Variables don't need to be declared before assigning values. However, there are different types of variables:\n",
    "\n",
    "#### 3.2.1. Integers"
   ]
  },
  {
   "cell_type": "code",
   "execution_count": null,
   "metadata": {},
   "outputs": [],
   "source": [
    "my_int = 9\n",
    "print(my_int)"
   ]
  },
  {
   "cell_type": "markdown",
   "metadata": {},
   "source": [
    "#### 3.2.2. Floating point numbers"
   ]
  },
  {
   "cell_type": "code",
   "execution_count": null,
   "metadata": {},
   "outputs": [],
   "source": [
    "my_float = 9.4\n",
    "print(my_float)"
   ]
  },
  {
   "cell_type": "markdown",
   "metadata": {},
   "source": [
    "`Python` even converts integers to floating point numbers when operating with both. If you want to change the datatype of your variables you can use `casting` operators:"
   ]
  },
  {
   "cell_type": "code",
   "execution_count": null,
   "metadata": {},
   "outputs": [],
   "source": [
    "# Python interpreter converts my_int to floating point number\n",
    "print(my_float - my_int)\n",
    "\n",
    "# Casting my_float to an intgeger value (numbers are rounded down)\n",
    "my_casted_int = int(my_float)\n",
    "print(my_casted_int - my_int)"
   ]
  },
  {
   "cell_type": "markdown",
   "metadata": {},
   "source": [
    "#### 3.2.3. Strings \n",
    "\n",
    "Strings are either defined with single or double quotes `'', \"\"`:"
   ]
  },
  {
   "cell_type": "code",
   "execution_count": null,
   "metadata": {},
   "outputs": [],
   "source": [
    "my_first_string = 'Autonomous'\n",
    "my_second_string = \"Driving\"\n",
    "\n",
    "print(my_first_string + \" \" + my_second_string)"
   ]
  },
  {
   "cell_type": "markdown",
   "metadata": {},
   "source": [
    "#### 3.2.4. Lists\n",
    "\n",
    "Lists in `Python` are similar to arrays from other programming languages. They can contain **any** type of variables:"
   ]
  },
  {
   "cell_type": "code",
   "execution_count": null,
   "metadata": {},
   "outputs": [],
   "source": [
    "# Initializing list with square brackets []\n",
    "my_list = [2, 3, 4]\n",
    "print(my_list)\n",
    "\n",
    "# values can be appended to the list via .append()\n",
    "my_list.append(5)\n",
    "print(my_list)\n",
    "\n",
    "# You can access a value over its index (starting at 0)\n",
    "print(my_list[3])"
   ]
  },
  {
   "cell_type": "markdown",
   "metadata": {},
   "source": [
    "### 3.3. Basic Operators\n",
    "\n",
    "#### 3.3.1. Arithmetic Operators\n",
    "\n",
    "Addition (+), substraction (-), multiplication(*), and division (/) are standard operators for numbers:"
   ]
  },
  {
   "cell_type": "code",
   "execution_count": null,
   "metadata": {},
   "outputs": [],
   "source": [
    "my_float = 1.0 + 2.0 * 3.0 / 4.0\n",
    "print(my_float)\n",
    "\n",
    "my_float += 1.0 # This is the same as my_float = my_float + 1.0\n",
    "print(my_float)\n",
    "\n",
    "my_float *= 3.0 # This is the same as my_float = my_float * 3.0\n",
    "print(my_float)"
   ]
  },
  {
   "cell_type": "markdown",
   "metadata": {},
   "source": [
    "The modulo operator (%) returns the integer remainder of a division:"
   ]
  },
  {
   "cell_type": "code",
   "execution_count": null,
   "metadata": {},
   "outputs": [],
   "source": [
    "remainder = 11 % 3\n",
    "print(remainder)"
   ]
  },
  {
   "cell_type": "markdown",
   "metadata": {},
   "source": [
    "A power relationship is realized using two multiplication symbols (**):"
   ]
  },
  {
   "cell_type": "code",
   "execution_count": null,
   "metadata": {},
   "outputs": [],
   "source": [
    "squared_number = 4**2\n",
    "cubed_number = 4**3\n",
    "print(squared_number)\n",
    "print(cubed_number)"
   ]
  },
  {
   "cell_type": "markdown",
   "metadata": {},
   "source": [
    "Several other operators, such as square root, are part of math-heavy packages such as `numpy`."
   ]
  },
  {
   "cell_type": "markdown",
   "metadata": {},
   "source": [
    "### 3.4. Conditions"
   ]
  },
  {
   "cell_type": "markdown",
   "metadata": {},
   "source": [
    "Python uses boolean logic (`True` or `False`) to evaluate conditions. Check out the follwing examples:"
   ]
  },
  {
   "cell_type": "code",
   "execution_count": null,
   "metadata": {},
   "outputs": [],
   "source": [
    "x = 1\n",
    "\n",
    "print(x == 1)\n",
    "print(x != 1)\n",
    "print(x != 2)"
   ]
  },
  {
   "cell_type": "markdown",
   "metadata": {},
   "source": [
    "#### 3.4.1 If, elif, else, and, or, in, is, not \n",
    "\n",
    "As previously mentioned, `Python` has several English-like elements. Especially when evaluating certain expressions, wether something is `True` or `False`, we can use these as follows:"
   ]
  },
  {
   "cell_type": "code",
   "execution_count": null,
   "metadata": {},
   "outputs": [],
   "source": [
    "Lecture = 'ADSE'\n",
    "List_of_Lectures = ['ADSE', 'AI']\n",
    "\n",
    "if Lecture == 'ADSE':\n",
    "    print(Lecture + ' is a very interesting lecture!')"
   ]
  },
  {
   "cell_type": "code",
   "execution_count": null,
   "metadata": {},
   "outputs": [],
   "source": [
    "if Lecture in List_of_Lectures:\n",
    "    print(Lecture + 'is taught at the FTM')"
   ]
  },
  {
   "cell_type": "code",
   "execution_count": null,
   "metadata": {},
   "outputs": [],
   "source": [
    "statement = False\n",
    "\n",
    "if statement is False:\n",
    "    print(\"This statement is false\") "
   ]
  },
  {
   "cell_type": "code",
   "execution_count": null,
   "metadata": {},
   "outputs": [],
   "source": [
    "if statement is not True:\n",
    "    print(\"This statement is not true\") "
   ]
  },
  {
   "cell_type": "code",
   "execution_count": null,
   "metadata": {},
   "outputs": [],
   "source": [
    "if statement is True:\n",
    "    print(\"This statement is true\")\n",
    "elif statement is False:\n",
    "    print(\"This statement is false\") # This line is being executed   "
   ]
  },
  {
   "cell_type": "code",
   "execution_count": null,
   "metadata": {},
   "outputs": [],
   "source": [
    "if statement is True:\n",
    "    print(\"This statement is true\")\n",
    "else:\n",
    "    print(\"This statement is not true\") # This line is being executed"
   ]
  },
  {
   "cell_type": "code",
   "execution_count": null,
   "metadata": {},
   "outputs": [],
   "source": [
    "# Note that we get a Warning when comparing values against a certain value with \"is\"\n",
    "# This is because the 'is' operator is not matching the values of the variables, but the instances themselves\n",
    "# Here we should use '==' instead of 'is'    \n",
    "\n",
    "print(1 == 1.0)\n",
    "print(1 is 1.0)"
   ]
  },
  {
   "cell_type": "markdown",
   "metadata": {},
   "source": [
    "### 3.5. Loops"
   ]
  },
  {
   "cell_type": "code",
   "execution_count": null,
   "metadata": {},
   "outputs": [],
   "source": [
    "values = [3, 1, 2, 8, 2, 5]"
   ]
  },
  {
   "cell_type": "markdown",
   "metadata": {},
   "source": [
    "#### 3.5.1. \"for\" loop\n",
    "\n",
    "for-loops are the basic method to iterate over lists:"
   ]
  },
  {
   "cell_type": "code",
   "execution_count": null,
   "metadata": {},
   "outputs": [],
   "source": [
    "for v in values:\n",
    "    print(v)"
   ]
  },
  {
   "cell_type": "markdown",
   "metadata": {},
   "source": [
    "During every iterations the variable `v` is being assigned the current value of the list `values`.\n",
    "\n",
    "Special functions, such as `range()` and `len()`, are sometimes useful when using for-loops:"
   ]
  },
  {
   "cell_type": "code",
   "execution_count": null,
   "metadata": {},
   "outputs": [],
   "source": [
    "for v in range(4):\n",
    "    print(v)"
   ]
  },
  {
   "cell_type": "code",
   "execution_count": null,
   "metadata": {},
   "outputs": [],
   "source": [
    "for v in range(2, 4):\n",
    "    print(v)"
   ]
  },
  {
   "cell_type": "code",
   "execution_count": null,
   "metadata": {},
   "outputs": [],
   "source": [
    "for v in range(len(values)):\n",
    "    print(v)"
   ]
  },
  {
   "cell_type": "markdown",
   "metadata": {},
   "source": [
    "Lastly, another useful function, especially when iterating over datasets, is the `enumerate()` function that we can use as follows:"
   ]
  },
  {
   "cell_type": "code",
   "execution_count": null,
   "metadata": {},
   "outputs": [],
   "source": [
    "# the enumerate operator returns index and value of a list in a for loop\n",
    "\n",
    "for index, value in enumerate(values):\n",
    "    print('index: ' + str(index) + ', value: ' + str(value))"
   ]
  },
  {
   "cell_type": "markdown",
   "metadata": {},
   "source": [
    "#### 3.5.2. \"while\" loop\n",
    "\n",
    "while-loops iterate until the boolean condition (`True` or `False`) at the top is not met:"
   ]
  },
  {
   "cell_type": "code",
   "execution_count": null,
   "metadata": {},
   "outputs": [],
   "source": [
    "value = 0\n",
    "\n",
    "while value <= 3:\n",
    "    print(value)\n",
    "    value += 1"
   ]
  },
  {
   "cell_type": "markdown",
   "metadata": {},
   "source": [
    "#### 3.5.3 \"break\" and \"continue\" statements\n",
    "\n",
    "`break` and `continue` are methods to exit and skip the current block of a loop. Check out the examples:"
   ]
  },
  {
   "cell_type": "code",
   "execution_count": null,
   "metadata": {},
   "outputs": [],
   "source": [
    "value = 0\n",
    "\n",
    "while True: # Will never exit the loop unless we exit somehow\n",
    "    print(value)\n",
    "    value += 1\n",
    "    if value >= 3:\n",
    "        break        "
   ]
  },
  {
   "cell_type": "code",
   "execution_count": null,
   "metadata": {},
   "outputs": [],
   "source": [
    "for v in range(7):\n",
    "    if v % 2 == 0:\n",
    "        continue\n",
    "    print(v)"
   ]
  },
  {
   "cell_type": "markdown",
   "metadata": {},
   "source": [
    "### 3.6 Functions"
   ]
  },
  {
   "cell_type": "markdown",
   "metadata": {},
   "source": [
    "Functions are a convenient way to modularize individual code blocks and introducing a structure in your software. Dividing your code into different parts improves readability, especially when using concise function names. It saves a lot of time and is the fundamental way to define interfaces, especially when working in a team. \n",
    "\n",
    "A function always starts with the keyword `def`:"
   ]
  },
  {
   "cell_type": "code",
   "execution_count": null,
   "metadata": {},
   "outputs": [],
   "source": [
    "def function(input_structure): # it is common practice to use lowercase letters for functions\n",
    "    pass    "
   ]
  },
  {
   "cell_type": "markdown",
   "metadata": {},
   "source": [
    "The upper function defines a function with the name `function` and an input. Until now the input datatype is not set.\n",
    "\n",
    "Similar to if-else conditions and loops, code within the function is always indented one block. Also, if we don't yet intend to write any code in the function, we have to use the keyword `pass`.\n",
    "\n",
    "A function doesn't need input such as the following one:"
   ]
  },
  {
   "cell_type": "code",
   "execution_count": null,
   "metadata": {},
   "outputs": [],
   "source": [
    "def hello_world():\n",
    "    print(\"Hello World!\")"
   ]
  },
  {
   "cell_type": "markdown",
   "metadata": {},
   "source": [
    "We can acces the function by it's name. dont forget the brackets `()`"
   ]
  },
  {
   "cell_type": "code",
   "execution_count": null,
   "metadata": {
    "scrolled": true
   },
   "outputs": [],
   "source": [
    "hello_world()"
   ]
  },
  {
   "cell_type": "markdown",
   "metadata": {},
   "source": [
    "A function can also have a return value such as the following one:"
   ]
  },
  {
   "cell_type": "code",
   "execution_count": null,
   "metadata": {},
   "outputs": [],
   "source": [
    "def highest_number_of_list(L):\n",
    "    \n",
    "    highest_number = None # variables must be initialized in the same / or a higher block. Otherwise we can't acces them\n",
    "    \n",
    "    for value in L:\n",
    "        \n",
    "        if highest_number is None:\n",
    "            highest_number = value\n",
    "            \n",
    "        elif value > highest_number:\n",
    "            highest_number = value\n",
    "            \n",
    "    return highest_number "
   ]
  },
  {
   "cell_type": "markdown",
   "metadata": {},
   "source": [
    "Now we can again acces the function by it's name. However, we must assign the return value to another variable or directly use it."
   ]
  },
  {
   "cell_type": "code",
   "execution_count": null,
   "metadata": {},
   "outputs": [],
   "source": [
    "numbers = [1, 9, 4, 5, -12]\n",
    "\n",
    "x = highest_number_of_list(numbers)\n",
    "\n",
    "print(x)"
   ]
  },
  {
   "cell_type": "markdown",
   "metadata": {},
   "source": [
    "## 4. Classes and Objects (Object Oriented Programming)"
   ]
  },
  {
   "cell_type": "markdown",
   "metadata": {},
   "source": [
    "As already mentioned in chapter 2.1., Python modules are aiming to modularize code and encapsule variables and functions. To realize this, **packages** commonly us **classes**. Classes are an encapsulation of variables and functions into a single **entity**. **Objects** are instances from classes and get their variables and functions, also called methods, from their class. \n",
    "\n",
    "Check out the following very basic class:"
   ]
  },
  {
   "cell_type": "code",
   "execution_count": null,
   "metadata": {},
   "outputs": [],
   "source": [
    "class Engineer: # it is common practice to use uppercase letters for classes\n",
    "    \n",
    "    name = \"no_name\"\n",
    "    \n",
    "    def description():\n",
    "        print(name + \" is an Engineer!\")"
   ]
  },
  {
   "cell_type": "markdown",
   "metadata": {},
   "source": [
    "We can now generate an instance/object of this class and acces the variables and methods/functions with the `.` operator as the follwing:"
   ]
  },
  {
   "cell_type": "code",
   "execution_count": null,
   "metadata": {},
   "outputs": [],
   "source": [
    "eng = Engineer\n",
    "\n",
    "eng.description()"
   ]
  },
  {
   "cell_type": "markdown",
   "metadata": {},
   "source": [
    "Unfortunately, the variable `name` is not yet accesible from the method `description`.\n",
    "\n",
    "To be able to acces class-variables from a function, we have to introduce the `self` parameter. `self` is needed, because whenever an object calls its own method, the object itself has to be passed as the first argument. Let's modify our class for this purpose:"
   ]
  },
  {
   "cell_type": "code",
   "execution_count": null,
   "metadata": {},
   "outputs": [],
   "source": [
    "class Engineer: \n",
    "    def __init__(self):\n",
    "        self.name = \"no_name\"\n",
    "    \n",
    "    def description(self):\n",
    "        print(self.name + \" is an Engineer!\")"
   ]
  },
  {
   "cell_type": "code",
   "execution_count": null,
   "metadata": {},
   "outputs": [],
   "source": [
    "eng = Engineer() \n",
    "eng.name = \"Stefanie\""
   ]
  },
  {
   "cell_type": "markdown",
   "metadata": {},
   "source": [
    "If we now want to print the description of our object, we have to again call `eng.description()`. Using the `self` parameter, the expression `eng.description()` can be interpreted as `Engineer.description(eng)`:"
   ]
  },
  {
   "cell_type": "code",
   "execution_count": null,
   "metadata": {},
   "outputs": [],
   "source": [
    "eng.description()"
   ]
  },
  {
   "cell_type": "markdown",
   "metadata": {},
   "source": [
    "The `__init__` method is part of every class and is called as soon as an object of a class is instantiated. The method can be used to initialize its object in some way. Note the double underscores at both the beginning and end of the name.\n",
    "\n",
    "We can also use the `__init__` method to hand over certain variables when instantiating our new object. For this we again need to modify our class as the following:"
   ]
  },
  {
   "cell_type": "code",
   "execution_count": null,
   "metadata": {},
   "outputs": [],
   "source": [
    "class Engineer: \n",
    "    def __init__(self, name):\n",
    "        self.name = name\n",
    "    \n",
    "    def description(self):\n",
    "        print(self.name + \" is an Engineer!\")"
   ]
  },
  {
   "cell_type": "code",
   "execution_count": null,
   "metadata": {},
   "outputs": [],
   "source": [
    "eng = Engineer(\"Stefanie\") \n",
    "\n",
    "eng.description()"
   ]
  },
  {
   "cell_type": "markdown",
   "metadata": {},
   "source": [
    "Notice that we only handed over one variable to our object when instantiating. `self` is automatically handed over to our new object so we don't explicitly do this."
   ]
  },
  {
   "cell_type": "markdown",
   "metadata": {},
   "source": [
    "## 5. Packages\n",
    "### 5.1. Imports\n",
    "\n",
    "Every `Python` module or script usually starts with important imports of **packages**. `Anaconda` and, `Python` in general, comes with several preinstalled packages."
   ]
  },
  {
   "cell_type": "code",
   "execution_count": null,
   "metadata": {},
   "outputs": [],
   "source": [
    "import numpy as np # the keyword 'as' allows to introduce abbreviations for modules\n",
    "import os\n",
    "import time"
   ]
  },
  {
   "cell_type": "markdown",
   "metadata": {},
   "source": [
    "### 5.2. Numpy\n",
    "\n",
    "`numpy` is a high performance framework for operations on multi-dimensional arrays.\n",
    "\n",
    "In the following we will check out a few functionalities of `numpy`:"
   ]
  },
  {
   "cell_type": "markdown",
   "metadata": {},
   "source": [
    "### 5.3. OpenCV\n",
    "\n",
    "`OpenCV` is a very popular framework for image-processing.\n",
    "\n",
    "In the following we will check out a few functionalities of `OpenCV`:"
   ]
  },
  {
   "cell_type": "markdown",
   "metadata": {},
   "source": [
    "### 5.4. SciPy\n"
   ]
  },
  {
   "cell_type": "markdown",
   "metadata": {},
   "source": [
    "### 5.5. PyTorch"
   ]
  },
  {
   "cell_type": "markdown",
   "metadata": {},
   "source": [
    "## 6. Virtual environments\n",
    "\n",
    "You may have noticed, that the first thing we have done in `Anaconda` was to set up an environment for the assignments. The purpose of such a (virtual) environment is to have space where packages, which are specefic to a certain project, can be installed. Like this we ensure that we are not getting in trouble with package dependencies. Lets think about the following scenario without any virtual environment: \n",
    "\n"
   ]
  },
  {
   "cell_type": "markdown",
   "metadata": {},
   "source": [
    "![title](no_virtual_environments.png)"
   ]
  },
  {
   "cell_type": "markdown",
   "metadata": {},
   "source": [
    "We have two different projects on our computer that partially use the same packages. Project A is several months older and uses older versions of the shared packages than Project B. We now run into problems as we don't know the exact versions of our computer's installed packages. Suppose we update our packages; the older versions are probably overwritten. We don't want to mess things up and create environments for each project and its packages:"
   ]
  },
  {
   "cell_type": "markdown",
   "metadata": {},
   "source": [
    "![title](virtual_environments.png)"
   ]
  },
  {
   "cell_type": "markdown",
   "metadata": {},
   "source": [
    "Once we have set up something, we now don't need to worry about any dependencies anymore."
   ]
  },
  {
   "cell_type": "markdown",
   "metadata": {},
   "source": [
    "## Sources\n",
    "\n",
    "Python Basics: https://www.learnpython.org/"
   ]
  }
 ],
 "metadata": {
  "kernelspec": {
   "display_name": "Python 3",
   "language": "python",
   "name": "python3"
  },
  "language_info": {
   "codemirror_mode": {
    "name": "ipython",
    "version": 3
   },
   "file_extension": ".py",
   "mimetype": "text/x-python",
   "name": "python",
   "nbconvert_exporter": "python",
   "pygments_lexer": "ipython3",
   "version": "3.8.6"
  }
 },
 "nbformat": 4,
 "nbformat_minor": 4
}
