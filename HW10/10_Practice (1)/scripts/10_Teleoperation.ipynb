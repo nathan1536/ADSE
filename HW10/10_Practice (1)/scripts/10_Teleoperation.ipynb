{
 "cells": [
  {
   "cell_type": "markdown",
   "id": "88c9e7c0",
   "metadata": {},
   "source": [
    "# Autonomous Driving Software Engineering - Lecture 10: Teleoperation  \n"
   ]
  },
  {
   "cell_type": "markdown",
   "id": "07af21f6",
   "metadata": {},
   "source": [
    "## Our objective is to send data over the network\n",
    "- Understand essential principles of MQTT (Message Queuing Telemetry Transport)\n",
    "- Why MQTT\n",
    "- Send our custom message to multiple subscribers"
   ]
  },
  {
   "cell_type": "markdown",
   "id": "947b90ab",
   "metadata": {},
   "source": [
    "## MQTT  \n",
    "\"MQTT is an OASIS standard. The specification is managed by the OASIS MQTT Technical Committee.\" - [Mqtt Link](https://mqtt.org/mqtt-specification/)  \n",
    "\n",
    "![](img/pub_sub_architecture.png)\n",
    "\n",
    "Picture taken from [HiveMQ GmbH](https://www.hivemq.com/blog/mqtt-essentials-part2-publish-subscribe/) on the 21/04/2021"
   ]
  },
  {
   "cell_type": "markdown",
   "id": "28683836",
   "metadata": {},
   "source": [
    "## Principles of MQTT\n",
    "\n",
    "- \"One\" broker and many clients\n",
    "- Clients publish and/or subscribe to topics\n",
    "- The broker dispatches messages between sender and the respective receivers"
   ]
  },
  {
   "cell_type": "markdown",
   "id": "6dd842de",
   "metadata": {},
   "source": [
    "## Why MQTT  \n",
    "\n",
    "- Efficient and lightweight (usage on microcontrollers + small headers for optimized network bandwidth usage)  \n",
    "- Bi-directional communications (publish/subscribe instead of client-server)  \n",
    "- Scalability  \n",
    "- Reliable message delivery (QoS: 0 = at most once, 1 = at least once, 2 = exactly once)"
   ]
  },
  {
   "cell_type": "markdown",
   "id": "1dc2a77f",
   "metadata": {},
   "source": [
    "## A single publish\n",
    "\n",
    "Sends data to a specific topic"
   ]
  },
  {
   "cell_type": "code",
   "execution_count": 1,
   "id": "14673893",
   "metadata": {},
   "outputs": [
    {
     "name": "stdout",
     "output_type": "stream",
     "text": [
      "published number: 1\n",
      "published number: 2\n",
      "published number: 3\n",
      "published number: 4\n",
      "published number: 5\n",
      "published number: 6\n",
      "published number: 7\n",
      "published number: 8\n",
      "published number: 9\n",
      "published number: 10\n",
      "finished publishing\n"
     ]
    }
   ],
   "source": [
    "import paho.mqtt.publish as publish\n",
    "import time\n",
    "\n",
    "number_of_cycles = 10\n",
    "sleep_interval_in_sec = 1\n",
    "\n",
    "for iteration in range(number_of_cycles):\n",
    "    publish.single(\"testtopic/single\", \"payload_\" + str(iteration+1),\\\n",
    "                   hostname=\"broker.emqx.io\")\n",
    "    print(\"published number: \" + str(iteration+1))\n",
    "    time.sleep(sleep_interval_in_sec)\n",
    "\n",
    "print(\"finished publishing\")"
   ]
  },
  {
   "cell_type": "markdown",
   "id": "975811fe",
   "metadata": {},
   "source": [
    "## Debugging of MQTT topics with web interface\n",
    "\n",
    "Online tools make it easier to interact with topics. Details about the folllwing steps can be found at [emqx_blog](https://www.emqx.io/blog/mqtt-broker-server). Example usage:\n",
    "\n",
    "### Create MQTT client via web interface\n",
    "1. Visit the web interface [emqx_interface](http://tools.emqx.io)\n",
    "2. Click on \"+ New Connection\"\n",
    "3. Type in a Name (e. g. Test)\n",
    "4. Click on Connect\n",
    "\n",
    "### Let the web client subscribe to your publisher.py topic\n",
    "1. Click on new subscription\n",
    "2. Type as Topic: <em>topic_name</em>\n",
    "3. Click on Confirm"
   ]
  },
  {
   "cell_type": "markdown",
   "id": "24cf9263",
   "metadata": {},
   "source": [
    "## A single subscribe\n",
    "\n",
    "Receives data from specific topic"
   ]
  },
  {
   "cell_type": "code",
   "execution_count": null,
   "id": "580a3bec",
   "metadata": {},
   "outputs": [
    {
     "name": "stdout",
     "output_type": "stream",
     "text": [
      "payload_1\n",
      "payload_2\n",
      "payload_3\n",
      "payload_4\n",
      "payload_5\n",
      "payload_6\n",
      "payload_7\n",
      "payload_8\n",
      "payload_9\n",
      "payload_10\n"
     ]
    }
   ],
   "source": [
    "import paho.mqtt.subscribe as subscribe\n",
    "\n",
    "while True:\n",
    "    msg = subscribe.simple(\"testtopic/single\", hostname=\"broker.emqx.io\")\n",
    "    print(str(msg.payload.decode(\"utf-8\")))\n"
   ]
  },
  {
   "cell_type": "markdown",
   "id": "e50bc5f2",
   "metadata": {},
   "source": [
    "Without \".decode()\" function, the content of the bytes object would be printed (b'payload')"
   ]
  },
  {
   "cell_type": "markdown",
   "id": "2f1b561d",
   "metadata": {},
   "source": [
    "## A publisher of our custom class\n",
    "\n",
    "\n",
    "Let's send a custom message over the network."
   ]
  },
  {
   "cell_type": "code",
   "execution_count": null,
   "id": "aba40198",
   "metadata": {},
   "outputs": [],
   "source": [
    "import vehicleParams as veh\n",
    "q7 = veh.VehicleParams(5.09, 1.98)"
   ]
  },
  {
   "cell_type": "markdown",
   "id": "286d54d2",
   "metadata": {},
   "source": [
    "<span style=\"color: red;\">**The next cell fails.**</span>  \n",
    "Only string, bytearray, int, float or None can be sent over network.  \n"
   ]
  },
  {
   "cell_type": "code",
   "execution_count": null,
   "id": "d84db324",
   "metadata": {},
   "outputs": [],
   "source": [
    "import paho.mqtt.publish as publish\n",
    "publish.single(\"testtopic/single\", q7, hostname=\"broker.emqx.io\")"
   ]
  },
  {
   "cell_type": "markdown",
   "id": "d3a957e2",
   "metadata": {},
   "source": [
    "## Serialization\n",
    "Data is converted into a bytestream"
   ]
  },
  {
   "cell_type": "code",
   "execution_count": null,
   "id": "94c2b700",
   "metadata": {},
   "outputs": [],
   "source": [
    "import pickle\n",
    "serialized_q7 = pickle.dumps(q7)\n",
    "#print(serialized_q7)"
   ]
  },
  {
   "cell_type": "markdown",
   "id": "eb3d03af",
   "metadata": {},
   "source": [
    "## Deserialization\n",
    "Data is converted back from bytestream to original format"
   ]
  },
  {
   "cell_type": "code",
   "execution_count": null,
   "id": "6059a3d8",
   "metadata": {},
   "outputs": [],
   "source": [
    "previous_q7 = pickle.loads(serialized_q7)\n",
    "print(\"Q7 dimensions: width {} and length {}\".\\\n",
    "      format(previous_q7.length, previous_q7.width))"
   ]
  },
  {
   "cell_type": "markdown",
   "id": "68fe19bb",
   "metadata": {},
   "source": [
    "## Serialized publisher\n",
    "The next program continuously sends serialized data to the specified topic:"
   ]
  },
  {
   "cell_type": "code",
   "execution_count": null,
   "id": "accc621d",
   "metadata": {},
   "outputs": [],
   "source": [
    "import time\n",
    "while True:\n",
    "    publish.single(\"testtopic/single\", serialized_q7, hostname=\"broker.emqx.io\")\n",
    "    time.sleep(2)"
   ]
  },
  {
   "cell_type": "markdown",
   "id": "4e81c3c6",
   "metadata": {},
   "source": [
    "## Deserializing subscriber\n",
    "Subscriber converts data into readable format"
   ]
  },
  {
   "cell_type": "code",
   "execution_count": null,
   "id": "82539e36",
   "metadata": {},
   "outputs": [],
   "source": [
    "import vehicleParams\n",
    "import paho.mqtt.subscribe as subscribe\n",
    "import pickle\n",
    "\n",
    "while True:\n",
    "    msg = subscribe.simple(\"testtopic/single\", hostname=\"broker.emqx.io\")\n",
    "    unserialized_q7 = pickle.loads(msg.payload)\n",
    "    print(\"vehicle length %s and width %s\" % \\\n",
    "          (unserialized_q7.length, unserialized_q7.width))"
   ]
  },
  {
   "cell_type": "markdown",
   "id": "6c73f492",
   "metadata": {},
   "source": [
    "# The client is the main mqtt object\n",
    "Example taken from [paho-mqtt](https://pypi.org/project/paho-mqtt/#client).  \n",
    "Further documentation can be found at [eclipse-paho-python](https://www.eclipse.org/paho/index.php?page=clients/python/docs/index.php#connect-reconnect-disconnect)"
   ]
  },
  {
   "cell_type": "code",
   "execution_count": null,
   "id": "b0e1d681",
   "metadata": {},
   "outputs": [],
   "source": [
    "import paho.mqtt.client as mqtt\n",
    "\n",
    "this_program_should_be_terminated = False\n",
    "\n",
    "def on_connect(client, userdata, flags, rc):\n",
    "    print(\"Connected with result code \"+str(rc))\n",
    "\n",
    "    # Subscribing in on_connect() means that if we lose the connection and\n",
    "    # reconnect then subscriptions will be renewed.\n",
    "    client.subscribe(\"testtopic/single\")\n",
    "\n",
    "def on_message(client, userdata, msg):\n",
    "    payload_text = msg.payload.decode(\"utf-8\")\n",
    "    print(msg.topic+\" \"+str(payload_text))\n",
    "\n",
    "client = mqtt.Client()\n",
    "client.on_connect = on_connect\n",
    "client.on_message = on_message\n",
    "\n",
    "client.connect(\"broker.emqx.io\", port=1883, keepalive=10)\n",
    "\n",
    "# Blocking call that processes network traffic, dispatches callbacks and\n",
    "# handles reconnecting.\n",
    "\n",
    "client.loop_forever()"
   ]
  },
  {
   "cell_type": "markdown",
   "id": "e5d3c4e5",
   "metadata": {},
   "source": [
    "## Outlook\n",
    "\n",
    "Threaded mqtt interface. Main thread is independent of mqtt subscription"
   ]
  },
  {
   "cell_type": "code",
   "execution_count": null,
   "id": "1495fd39",
   "metadata": {},
   "outputs": [],
   "source": [
    "import paho.mqtt.client as mqtt\n",
    "\n",
    "this_program_should_be_terminated = False\n",
    "\n",
    "def on_connect(client, userdata, flags, rc):\n",
    "    print(\"Connected with result code \"+str(rc))\n",
    "\n",
    "    # Subscribing in on_connect() means that if we lose the connection and\n",
    "    # reconnect then subscriptions will be renewed.\n",
    "    client.subscribe(\"testtopic/single\")\n",
    "\n",
    "def on_message(client, userdata, msg):\n",
    "    payload_text = msg.payload.decode(\"utf-8\")\n",
    "    print(msg.topic+\" \"+str(payload_text))\n",
    "    finish_statement = \"finish\"\n",
    "    if payload_text == finish_statement:\n",
    "        global this_program_should_be_terminated\n",
    "        this_program_should_be_terminated = True\n",
    "\n",
    "client = mqtt.Client()\n",
    "client.on_connect = on_connect\n",
    "client.on_message = on_message\n",
    "\n",
    "client.connect(\"broker.emqx.io\", port=1883, keepalive=10)\n",
    "\n",
    "# Blocking call that processes network traffic, dispatches callbacks and\n",
    "# handles reconnecting.\n",
    "# Other loop*() functions are available that give a threaded interface and a\n",
    "# manual interface.\n",
    "\n",
    "client.loop_start()\n",
    "\n",
    "import time\n",
    "while True:\n",
    "    time.sleep(5)\n",
    "    print(\"Here, the main work is done\")\n",
    "    if this_program_should_be_terminated:\n",
    "        print(\"program terminating\")\n",
    "        break\n",
    "\n",
    "print(\"program terminated\")"
   ]
  }
 ],
 "metadata": {
  "kernelspec": {
   "display_name": "Python 3 (ipykernel)",
   "language": "python",
   "name": "python3"
  },
  "language_info": {
   "codemirror_mode": {
    "name": "ipython",
    "version": 3
   },
   "file_extension": ".py",
   "mimetype": "text/x-python",
   "name": "python",
   "nbconvert_exporter": "python",
   "pygments_lexer": "ipython3",
   "version": "3.8.8"
  }
 },
 "nbformat": 4,
 "nbformat_minor": 5
}
