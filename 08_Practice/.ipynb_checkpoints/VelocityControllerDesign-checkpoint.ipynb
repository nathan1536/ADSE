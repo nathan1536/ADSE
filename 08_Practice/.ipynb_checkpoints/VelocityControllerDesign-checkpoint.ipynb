{
 "cells": [
  {
   "cell_type": "markdown",
   "id": "975889e4",
   "metadata": {},
   "source": [
    "Velocity controller design\n",
    "===========================\n",
    "\n",
    "In this task we will demonstrate how to design and implement a velocity PI-controller for the following model: \n",
    "\n",
    "$$\\dot{v} = \\frac{F_x}{m} - \\frac{c_d}{m}v^2$$\n",
    "\n",
    "The system input $F_x$ can be split into the control input $u$ and external disturbance forces $d$. We can therefore rewrite the equation \n",
    "\n",
    "$$\\dot{v} = \\frac{u + d}{m} - \\frac{c_d}{m}v^2$$\n",
    "\n",
    "and analyze its behavior with respect to external input signals d. The control law is built from a proportional $K_p$ and an integral feedback part $K_i$: \n",
    "\n",
    "$$u = K_pe + K_i\\int{e \\text{dt}}$$"
   ]
  },
  {
   "cell_type": "markdown",
   "id": "13c2e073",
   "metadata": {},
   "source": [
    "### Even though PI-controllers are often tuned empirically, it is quite helpful to determine an initial set of parameters using standard methods for control system design. We will go through these steps now and derive a suitable set of controller parameters: \n",
    "\n",
    "## First Step: Linearization\n",
    "\n",
    "The system itself is nonlinear due to the term $v^2$. We therefore have to linearize around an operating point to apply linear control system design methods. We label the state $x = v$ and the input $F_x$ is splitted into the control input $u$ and the disturbance input $d$. The system equation in its general form can now be written as: \n",
    "\n",
    "$$\\dot{x} = f(x, u, d) = \\frac{u + d}{m} - \\frac{c_d}{m}v^2$$\n",
    "\n",
    "Linearization with respect to the state: \n",
    "\n",
    "$$\\frac{\\partial f(x, u, d)}{\\partial x} = -\\frac{2c_d}{m}v_0$$\n",
    "\n",
    "Linearization with respect to the input: \n",
    "\n",
    "$$\\frac{\\partial f(x, u, d)}{\\partial u} = \\frac{1}{m}$$\n",
    "\n",
    "The linearized system equation around the operating point $v_0$ is now: \n",
    "\n",
    "$$\\Delta \\dot{v} = \\frac{u}{m} + \\frac{d}{m} -\\frac{2c_d}{m}v_0\\Delta v$$\n",
    "\n",
    "## Second Step: Controller Design\n",
    "\n",
    "To design the PI controller, we calculate the transfer function with the laplace variable $s$ from $u$ to $\\Delta v$. We can neglect the disturbance input here as the linear system theory allows us to treat the inputs independently (superposition principle). \n",
    "\n",
    "$$\\Delta v(s)s = \\frac{u(s)}{m} -\\frac{2c_d}{m}v_0\\Delta v(s)$$\n",
    "\n",
    "By reformulation we get\n",
    "\n",
    "$$G_p(s) := \\frac{v(s)}{u(s)} = \\frac{1}{\\left(ms+2c_dv_0\\right)}$$\n",
    "\n",
    "Using the PI controller transfer function from the control error $e$ to the control value $u$\n",
    "\n",
    "$$G_r(s) := \\frac{u(s)}{e(s)} = \\frac{K_ps+K_i}{s} = K_p + \\frac{K_i}{s}$$\n",
    "\n",
    "we get the closed-loop transfer function\n",
    "\n",
    "$$G_c(s) = \\frac{G_p(s)G_r(s)}{1+G_p(s)G_r(s)} = \\frac{K_ps+K_i}{K_ps+K_i+s\\left(ms+2c_dv_0\\right)} = \\frac{1}{m}\\frac{K_ps+K_i}{s^2 + \\frac{K_p + 2c_dv_0}{m}s + \\frac{K_i}{m}}$$\n",
    "\n",
    "We will obtain the gains $K_p$ and $K_i$ via coefficient comparison. The target dynamics for our closed-loop are specified as a pole at -3+3j and -3-3j. The resulting target polynomial is \n",
    "\n",
    "$$\\left(s+3+3j\\right)\\left(s+3-3j\\right) \\stackrel{!}{=} s^2 + \\frac{K_p + 2c_dv_0}{m}s + \\frac{K_i}{m}$$\n",
    "\n",
    "$$s^2 + 6s + 18 \\stackrel{!}{=} s^2 + \\frac{K_p + 2c_dv_0}{m}s + \\frac{K_i}{m}$$\n",
    "\n",
    "The controller gains are therefore calculated to be\n",
    "\n",
    "$~~~K_p = 6m - 2c_dv_0~~~~~~~~~$ for a operating point of $v_0 = 10$ mps\n",
    "\n",
    "$~~~K_i = 18m$"
   ]
  },
  {
   "cell_type": "code",
   "execution_count": null,
   "id": "0c88909c",
   "metadata": {},
   "outputs": [],
   "source": [
    "%matplotlib inline\n",
    "\n",
    "import numpy as np\n",
    "import matplotlib.pyplot as plt\n",
    "\n",
    "# Specific settings for the matplotlib package used for visualization\n",
    "ratio = [16, 10]\n",
    "linewidth = 4\n",
    "plt.rcParams[\"figure.figsize\"] = ratio\n",
    "plt.rcParams.update({\"font.size\": 22})"
   ]
  },
  {
   "cell_type": "code",
   "execution_count": null,
   "id": "75ec11f3",
   "metadata": {},
   "outputs": [],
   "source": [
    "# step size for integration in seconds\n",
    "tS = 0.01\n",
    "# simulation time in seconds\n",
    "t_end = 10\n",
    "\n",
    "# create an array containing all time values in the interval [0, t_end[\n",
    "t = np.arange(0, t_end, tS)\n",
    "\n",
    "# Define vehicle parameters\n",
    "mass = 1200 # vehicle mass\n",
    "cd = 0.45 # lumped drag coefficient "
   ]
  },
  {
   "cell_type": "code",
   "execution_count": null,
   "id": "8314f1d2",
   "metadata": {},
   "outputs": [],
   "source": [
    "# implementation of the PI control law\n",
    "v0 = 10\n",
    "Kp = 6*mass - 2*cd*v0\n",
    "Ki = 18*mass\n",
    "print('The proportional gain is: ' + str(Kp))\n",
    "print('The integral gain is: ' + str(Ki))\n",
    "def control(e, old_integrator_value, tS, Kp=Kp, Ki=Ki): \n",
    "    # apply numerical integration to obtain the next value of the integral \n",
    "    integrator_value = old_integrator_value + tS*e\n",
    "    # calculate control law\n",
    "    u = Kp*e + Ki*integrator_value\n",
    "    return u, integrator_value"
   ]
  },
  {
   "cell_type": "code",
   "execution_count": null,
   "id": "87f6924c",
   "metadata": {},
   "outputs": [],
   "source": [
    "# initialize the solution with all zeros\n",
    "v = np.zeros(len(t))\n",
    "# specify the initial condition with a certain speed\n",
    "v[0] = v0\n",
    "# specify the disturbance input (0N for the first 2.5 seconds and -3000 for the rest of the horizon)\n",
    "d = -3000 * np.greater(t,2.5)\n",
    "\n",
    "# Visualize the disturbance force\n",
    "plt.plot(t, d, linewidth = linewidth)\n",
    "plt.grid()\n",
    "plt.xlabel('Time in s')\n",
    "plt.ylabel('Disturbance force in N')"
   ]
  },
  {
   "cell_type": "code",
   "execution_count": null,
   "id": "084a3959",
   "metadata": {},
   "outputs": [],
   "source": [
    "# we will now determine the solution to the controlled differential equation specified above \n",
    "# store the control inputs \n",
    "u_log = np.zeros(len(t))\n",
    "# initialize the integrator with zero \n",
    "old_integrator_value = 0\n",
    "# define a velocity setpoint\n",
    "v_set = 10\n",
    "\n",
    "# Solve the differential equation in closed loop\n",
    "for i in range(1, v.shape[0]): \n",
    "    # determine control error \n",
    "    e = v_set - v[i-1]\n",
    "    # determine control value\n",
    "    u, old_integrator_value = control(e, old_integrator_value, tS)\n",
    "    u_log[i] = u\n",
    "    # apply euler forward integration (x(k+1) = x(k) + tS*d_x(k))\n",
    "    v[i] = v[i-1] + tS*(u/mass + d[i-1]/mass - cd/mass*v[i-1]**2)\n"
   ]
  },
  {
   "cell_type": "code",
   "execution_count": null,
   "id": "6dcd7794",
   "metadata": {},
   "outputs": [],
   "source": [
    "# visualize the solution \n",
    "fig, (ax1,ax2) = plt.subplots(2, 1)\n",
    "ax1.plot(t, v, label='Actual value', linewidth = linewidth)\n",
    "ax1.plot(t, np.full_like(v, v_set), label='Target value', linewidth = linewidth)\n",
    "ax1.grid()\n",
    "ax1.set_xlabel('Time in s')\n",
    "ax1.set_ylabel('Velocity in mps')\n",
    "ax1.legend()\n",
    "ax2.plot(t, u_log, linewidth = linewidth)\n",
    "ax2.grid()\n",
    "ax2.set_xlabel('Time in s')\n",
    "ax2.set_ylabel('Control input in N')"
   ]
  }
 ],
 "metadata": {
  "kernelspec": {
   "display_name": "Python 3 (ipykernel)",
   "language": "python",
   "name": "python3"
  },
  "language_info": {
   "codemirror_mode": {
    "name": "ipython",
    "version": 3
   },
   "file_extension": ".py",
   "mimetype": "text/x-python",
   "name": "python",
   "nbconvert_exporter": "python",
   "pygments_lexer": "ipython3",
   "version": "3.8.8"
  },
  "vscode": {
   "interpreter": {
    "hash": "29c651bb0817dfaa41d7aa1ae7ea302dd1ca0dccf1e8d762df48d458acce666c"
   }
  }
 },
 "nbformat": 4,
 "nbformat_minor": 5
}
